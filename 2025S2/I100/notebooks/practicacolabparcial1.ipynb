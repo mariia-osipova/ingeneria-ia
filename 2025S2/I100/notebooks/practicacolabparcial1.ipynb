{
 "cells": [
  {
   "metadata": {},
   "cell_type": "markdown",
   "source": [
    "# Ejercicio 1 (parcial)\n",
    "Se quiere implementar un software para administrar reservas de habitaciones de un hotel. Se propone guardar la información en un diccionario que contenga, como claves los tipos de habitaciones (“simple”, “doble” y “suite”) y como valores otros diccionarios con la información de las reservas, por ejemplo:\n",
    "```python\n",
    "dic_reservas = {\n",
    "    \"simple\": {\"disponibles\": 6, \"reservas\": [\"María\"]},\n",
    "    \"doble\": {\"disponibles\": 2, \"reservas\": [\"Carlos\", \"Karen\"]},\n",
    "    \"suite\": {\"disponibles\": 1, \"reservas\": [\"Ana\"]}\n",
    "}\n",
    "```\n",
    "Implemente un programa que solicite los datos de una nueva reserva, pidiendo el nombre del cliente y tipo de habitación deseada. El programa debe verificar que queden suficientes habitaciones del tipo solicitado. Si hay habitaciones disponibles, debe agregar el nombre del cliente a la lista de reservas y actualizar la cantidad de habitaciones disponibles para ese tipo. Si se pudo realizar la reserva, se debe indicar el mensaje “Reserva confirmada”. En caso de estar agotada la habitación solicitada, debe informar mediante un mensaje que no se puede hacer la reserva. Finalmente el programa debe mostrar en pantalla un resumen con el estado actual de todas las habitaciones y reservas. Nota: tenga en cuenta buenas prácticas de modularización. Una posible ejecución sería:\n",
    "\n",
    "```\n",
    "Ingrese nombre del cliente: Joaquín\n",
    "Ingrese habitación (simple/doble/suite): simple\n",
    "Reserva confirmada\n",
    "\n",
    "Habitaciones simples: 5 disponibles, reservadas por ['María', 'Joaquín']\n",
    "Habitaciones dobles: 2 disponibles, reservadas por ['Carlos', 'Karen']\n",
    "Habitaciones suite: 1 disponibles, reservadas por ['Ana']\n",
    "\n"
   ],
   "id": "70618182b07dc5ea"
  },
  {
   "metadata": {
    "collapsed": true
   },
   "cell_type": "code",
   "source": [
    "dic_reservas = {\n",
    "    \"simple\": {\"disponibles\": 6, \"reservas\": [\"María\"]},\n",
    "    \"doble\": {\"disponibles\": 2, \"reservas\": [\"Carlos\", \"Karen\"]},\n",
    "    \"suite\": {\"disponibles\": 1, \"reservas\": [\"Ana\"]}\n",
    "}\n",
    "\n",
    "def pedir_nombre(dic_reservas):\n",
    "    nombre = input(\"Ingrese nombre del cliente: \")\n",
    "    habitacion = input(\"Ingrese habitacion (simple/doble/suite): \")\n",
    "\n",
    "    if habitacion not in dic_reservas:\n",
    "        while habitacion not in dic_reservas:\n",
    "            habitacion = input(\"Ingrese habitacion (simple/doble/suite): \")\n",
    "\n",
    "    return nombre, habitacion\n",
    "\n",
    "nombre, habitacion = pedir_nombre(dic_reservas)\n",
    "\n",
    "def reserva(nombre, habitacion, dic_reservas):\n",
    "    if dic_reservas[habitacion][\"disponibles\"] > 0:\n",
    "        dic_reservas[habitacion][\"reservas\"].append(nombre)\n",
    "        dic_reservas[habitacion][\"disponibles\"] -= 1\n",
    "        print(\"Reserva confirmada\")\n",
    "    else:\n",
    "        print(\"No se puede hacer la reserva\")\n",
    "\n",
    "    return dic_reservas\n",
    "\n",
    "reserva(nombre, habitacion, dic_reservas)\n",
    "\n",
    "print(f\"Habitaciones simples: {dic_reservas['simple']['disponibles']} disponibles, reservadas por {dic_reservas['simple']['reservas']} \\n\"\n",
    "f\"Habitaciones dobles: {dic_reservas['doble']['disponibles']} disponibles, reservadas por {dic_reservas['doble']['reservas']} \\n\"\n",
    "f\"Habitaciones suite: {dic_reservas['suite']['disponibles']} disponibles, reservadas por {dic_reservas['suite']['reservas']} \\n\")\n"
   ],
   "id": "initial_id",
   "outputs": [],
   "execution_count": null
  },
  {
   "metadata": {},
   "cell_type": "markdown",
   "source": [
    "# Ejercicio (similar a parcial)\n",
    "\n",
    "Un estudiante quiere implementar un programa para registrar las notas de las materias que ha cursado. Cada materia consta de un parcial y un trabajo práctico.\n",
    "\n",
    "1. Escriba una función que reciba una lista con las materias aprobadas para poder registrarlas y le solicite al usuario el ingreso de las notas del parcial y tp de dichas materias. Esta información se debe albergar en una estructura de datos apropiada basada en diccionarios.\n",
    "\n",
    "2. Escribir un programa que utilice la función del punto anterior  y luego muestre un resumen con el promedio final (redondeado) para cada materia ingresada. Para probar la función, suponga que tiene la lista de dos materias `['Análisis', 'Física']`.\n",
    "\n",
    "  Ejemplo de ejecución del programa:\n",
    "\n",
    "  ```Console\n",
    "  Ingrese la nota del parcial de Análisis: 4\n",
    "  Ingrese la nota del TP de Análisis: 7\n",
    "\n",
    "  Ingrese la nota del parcial de Física: 6\n",
    "  Ingrese la nota del TP de Física: 9\n",
    "\n",
    "  Recumen de notas:\n",
    "  La nota final de Análisis es: 6\n",
    "  La nota final de Física es: 8\n",
    "  ```\n"
   ],
   "id": "32533cf75b1de262"
  },
  {
   "metadata": {},
   "cell_type": "code",
   "source": [
    "dic_notas = {\"analisis\": {}, \"fisica\": {}}\n",
    "\n",
    "def notas(dic_notas):\n",
    "    analisis_parcial = int(input(\"Ingrese la nota del parcial de analisis: \"))\n",
    "    analisis_tp = int(input(\"Ingrese la nota del TP de analisis: \"))\n",
    "    fisica_parcial = int(input(\"Ingrese la nota del parcial de fisica: \"))\n",
    "    fisica_tp = int(input(\"Ingrese la nota del TP de fisica: \"))\n",
    "\n",
    "    dic_notas[\"analisis\"][\"parcial\"] = analisis_parcial\n",
    "    dic_notas[\"analisis\"][\"tp\"] = analisis_tp\n",
    "    dic_notas[\"fisica\"][\"parcial\"] = fisica_parcial\n",
    "    dic_notas[\"fisica\"][\"tp\"] = fisica_tp\n",
    "\n",
    "    return dic_notas\n",
    "\n",
    "dic_notas = notas(dic_notas)\n",
    "\n",
    "def promedio(dic_notas):\n",
    "    promedio_analisis = (dic_notas[\"analisis\"][\"parcial\"] + dic_notas[\"analisis\"][\"tp\"]) / 2\n",
    "    promedio_fisica = (dic_notas[\"fisica\"][\"parcial\"] + dic_notas[\"fisica\"][\"tp\"]) / 2\n",
    "\n",
    "    return promedio_analisis, promedio_fisica\n",
    "\n",
    "promedio_analisis, promedio_fisica = promedio(dic_notas)\n",
    "\n",
    "print(f\"Resumen de notas: \\n\"\n",
    "      f\"La nota final del analisis en: {promedio_analisis} \\n\"\n",
    "      f\"La nota final del fisica en: {promedio_fisica} \\n\")\n",
    "\n",
    "print(dic_notas)"
   ],
   "id": "8979ef423cc2d72e",
   "outputs": [],
   "execution_count": null
  },
  {
   "metadata": {},
   "cell_type": "code",
   "source": [
    "def registrar_notas(materias):\n",
    "    notas = {}\n",
    "    for materia in materias:\n",
    "        parcial = int(input(f\"Ingrese la nota del parcial de {materia}: \"))\n",
    "        tp = int(input(f\"Ingrese la nota del TP de {materia}: \"))\n",
    "        notas[materia] = {\"parcial\": parcial, \"tp\": tp}\n",
    "    return notas\n"
   ],
   "id": "28297255c1b82197",
   "outputs": [],
   "execution_count": null
  }
 ],
 "metadata": {
  "kernelspec": {
   "display_name": "Python 3",
   "language": "python",
   "name": "python3"
  },
  "language_info": {
   "codemirror_mode": {
    "name": "ipython",
    "version": 2
   },
   "file_extension": ".py",
   "mimetype": "text/x-python",
   "name": "python",
   "nbconvert_exporter": "python",
   "pygments_lexer": "ipython2",
   "version": "2.7.6"
  }
 },
 "nbformat": 4,
 "nbformat_minor": 5
}
