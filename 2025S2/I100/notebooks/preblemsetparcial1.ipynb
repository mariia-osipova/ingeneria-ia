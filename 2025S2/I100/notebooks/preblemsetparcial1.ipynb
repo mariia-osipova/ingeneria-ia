{
 "cells": [
  {
   "metadata": {},
   "cell_type": "markdown",
   "source": "Escriba un programa que imprima en pantalla los puntajes de dos jugadores de un game de partido de tenis. Por cada punto su programa debe recibir quien gana el game y en base a eso imprimir los puntajes. Cuando un jugador tenga ventaja debe imprimir Adv 40 o viceversa. Para ver quien gana su programa recibirá un 1 o un 2. Se debe imprimir en pantalla el primer puntaje de 0 a 0. Cuando gana un jugador se debe imprimir \"Gana el jugador x\", donde x es 1 o 2.",
   "id": "b7e0be12db3cb474"
  },
  {
   "metadata": {
    "ExecuteTime": {
     "end_time": "2025-09-28T16:20:35.353050Z",
     "start_time": "2025-09-28T16:20:33.827744Z"
    }
   },
   "cell_type": "code",
   "outputs": [
    {
     "ename": "KeyboardInterrupt",
     "evalue": "Interrupted by user",
     "output_type": "error",
     "traceback": [
      "\u001B[0;31m---------------------------------------------------------------------------\u001B[0m",
      "\u001B[0;31mKeyboardInterrupt\u001B[0m                         Traceback (most recent call last)",
      "Cell \u001B[0;32mIn[36], line 40\u001B[0m\n\u001B[1;32m     38\u001B[0m             \u001B[38;5;28mprint\u001B[39m(\u001B[38;5;241m*\u001B[39mscore)\n\u001B[1;32m     39\u001B[0m             score[j] \u001B[38;5;241m=\u001B[39m \u001B[38;5;241m40\u001B[39m\n\u001B[0;32m---> 40\u001B[0m \u001B[43mwhoisthewinner\u001B[49m\u001B[43m(\u001B[49m\u001B[43m)\u001B[49m\n",
      "Cell \u001B[0;32mIn[36], line 5\u001B[0m, in \u001B[0;36mwhoisthewinner\u001B[0;34m()\u001B[0m\n\u001B[1;32m      2\u001B[0m score \u001B[38;5;241m=\u001B[39m [\u001B[38;5;241m0\u001B[39m, \u001B[38;5;241m0\u001B[39m]\n\u001B[1;32m      4\u001B[0m \u001B[38;5;28;01mwhile\u001B[39;00m \u001B[38;5;28;01mTrue\u001B[39;00m:\n\u001B[0;32m----> 5\u001B[0m     s \u001B[38;5;241m=\u001B[39m \u001B[38;5;28;43minput\u001B[39;49m\u001B[43m(\u001B[49m\u001B[43m)\u001B[49m\u001B[38;5;241m.\u001B[39mstrip()\n\u001B[1;32m      6\u001B[0m     \u001B[38;5;28;01mif\u001B[39;00m s \u001B[38;5;241m==\u001B[39m \u001B[38;5;124m\"\u001B[39m\u001B[38;5;124m\"\u001B[39m:\n\u001B[1;32m      7\u001B[0m         \u001B[38;5;28;01mbreak\u001B[39;00m\n",
      "File \u001B[0;32m~/PycharmProjects/PythonProject/udesa/.venv/lib/python3.9/site-packages/ipykernel/kernelbase.py:1275\u001B[0m, in \u001B[0;36mKernel.raw_input\u001B[0;34m(self, prompt)\u001B[0m\n\u001B[1;32m   1273\u001B[0m     msg \u001B[38;5;241m=\u001B[39m \u001B[38;5;124m\"\u001B[39m\u001B[38;5;124mraw_input was called, but this frontend does not support input requests.\u001B[39m\u001B[38;5;124m\"\u001B[39m\n\u001B[1;32m   1274\u001B[0m     \u001B[38;5;28;01mraise\u001B[39;00m StdinNotImplementedError(msg)\n\u001B[0;32m-> 1275\u001B[0m \u001B[38;5;28;01mreturn\u001B[39;00m \u001B[38;5;28;43mself\u001B[39;49m\u001B[38;5;241;43m.\u001B[39;49m\u001B[43m_input_request\u001B[49m\u001B[43m(\u001B[49m\n\u001B[1;32m   1276\u001B[0m \u001B[43m    \u001B[49m\u001B[38;5;28;43mstr\u001B[39;49m\u001B[43m(\u001B[49m\u001B[43mprompt\u001B[49m\u001B[43m)\u001B[49m\u001B[43m,\u001B[49m\n\u001B[1;32m   1277\u001B[0m \u001B[43m    \u001B[49m\u001B[38;5;28;43mself\u001B[39;49m\u001B[38;5;241;43m.\u001B[39;49m\u001B[43m_parent_ident\u001B[49m\u001B[43m[\u001B[49m\u001B[38;5;124;43m\"\u001B[39;49m\u001B[38;5;124;43mshell\u001B[39;49m\u001B[38;5;124;43m\"\u001B[39;49m\u001B[43m]\u001B[49m\u001B[43m,\u001B[49m\n\u001B[1;32m   1278\u001B[0m \u001B[43m    \u001B[49m\u001B[38;5;28;43mself\u001B[39;49m\u001B[38;5;241;43m.\u001B[39;49m\u001B[43mget_parent\u001B[49m\u001B[43m(\u001B[49m\u001B[38;5;124;43m\"\u001B[39;49m\u001B[38;5;124;43mshell\u001B[39;49m\u001B[38;5;124;43m\"\u001B[39;49m\u001B[43m)\u001B[49m\u001B[43m,\u001B[49m\n\u001B[1;32m   1279\u001B[0m \u001B[43m    \u001B[49m\u001B[43mpassword\u001B[49m\u001B[38;5;241;43m=\u001B[39;49m\u001B[38;5;28;43;01mFalse\u001B[39;49;00m\u001B[43m,\u001B[49m\n\u001B[1;32m   1280\u001B[0m \u001B[43m\u001B[49m\u001B[43m)\u001B[49m\n",
      "File \u001B[0;32m~/PycharmProjects/PythonProject/udesa/.venv/lib/python3.9/site-packages/ipykernel/kernelbase.py:1320\u001B[0m, in \u001B[0;36mKernel._input_request\u001B[0;34m(self, prompt, ident, parent, password)\u001B[0m\n\u001B[1;32m   1317\u001B[0m \u001B[38;5;28;01mexcept\u001B[39;00m \u001B[38;5;167;01mKeyboardInterrupt\u001B[39;00m:\n\u001B[1;32m   1318\u001B[0m     \u001B[38;5;66;03m# re-raise KeyboardInterrupt, to truncate traceback\u001B[39;00m\n\u001B[1;32m   1319\u001B[0m     msg \u001B[38;5;241m=\u001B[39m \u001B[38;5;124m\"\u001B[39m\u001B[38;5;124mInterrupted by user\u001B[39m\u001B[38;5;124m\"\u001B[39m\n\u001B[0;32m-> 1320\u001B[0m     \u001B[38;5;28;01mraise\u001B[39;00m \u001B[38;5;167;01mKeyboardInterrupt\u001B[39;00m(msg) \u001B[38;5;28;01mfrom\u001B[39;00m\u001B[38;5;250m \u001B[39m\u001B[38;5;28;01mNone\u001B[39;00m\n\u001B[1;32m   1321\u001B[0m \u001B[38;5;28;01mexcept\u001B[39;00m \u001B[38;5;167;01mException\u001B[39;00m:\n\u001B[1;32m   1322\u001B[0m     \u001B[38;5;28mself\u001B[39m\u001B[38;5;241m.\u001B[39mlog\u001B[38;5;241m.\u001B[39mwarning(\u001B[38;5;124m\"\u001B[39m\u001B[38;5;124mInvalid Message:\u001B[39m\u001B[38;5;124m\"\u001B[39m, exc_info\u001B[38;5;241m=\u001B[39m\u001B[38;5;28;01mTrue\u001B[39;00m)\n",
      "\u001B[0;31mKeyboardInterrupt\u001B[0m: Interrupted by user"
     ]
    }
   ],
   "execution_count": 36,
   "source": [
    "def whoisthewinner():\n",
    "    score = [0, 0]\n",
    "\n",
    "    while True:\n",
    "        s = input().strip()\n",
    "        if s == \"\":\n",
    "            break\n",
    "        if s not in (\"1\", \"2\"):\n",
    "            while s not in (\"1\", \"2\"):\n",
    "                try:\n",
    "                    s = input().strip()\n",
    "                except EOFError:\n",
    "                    break\n",
    "                if s == \"\":\n",
    "                    break\n",
    "\n",
    "        i = 0 if s == \"1\" else 1\n",
    "        j = 1 - i\n",
    "\n",
    "        if score[i] in (0, 15):\n",
    "            print(*score)\n",
    "            score[i] += 15\n",
    "        elif score[i] == 30:\n",
    "            print(*score)\n",
    "            score[i] = 40\n",
    "        elif score[i] == 40 and score[j] in (0, 15, 30):\n",
    "            print(*score)\n",
    "            print(f\"Gana el jugador {i+1}\")\n",
    "            return\n",
    "        elif score[i] == 40 and score[j] == 40:\n",
    "            print(*score)\n",
    "            score[i] = \"Adv\"\n",
    "        elif score[i] == \"Adv\" and score[j] == 40:\n",
    "            print(*score)\n",
    "            print(f\"Gana el jugador {i+1}\")\n",
    "            return\n",
    "        elif score[i] == 40 and score[j] == \"Adv\":\n",
    "            print(*score)\n",
    "            score[j] = 40\n",
    "whoisthewinner()"
   ],
   "id": "b02d5ce2fbc69506"
  },
  {
   "metadata": {},
   "cell_type": "markdown",
   "source": [
    "Un estudiante de psicología está llevando a cabo un experimento en el que repetidamente le pide a la gente que \"piense un objeto, cualquiera'. Su objetivo es analizar en qué objetos piensa la gente en esta situación. Cada respuesta es almacenada en un archivo de texto, una respuesta por línea.\n",
    "\n",
    "Ayude a analizar los datos escribiendo una función llamada make_dictionary que tome como parámetro de entrada un string que represente el nombre del archivo con las respuestas obtenidas. La función debe devolver un diccionario en donde las claves sean las palabras pensadas por la gente y los valores asociados, la cantidad de veces que se repitió dicho objeto en la prueba."
   ],
   "id": "811c86d3c20015a4"
  },
  {
   "metadata": {
    "collapsed": true,
    "ExecuteTime": {
     "end_time": "2025-09-28T16:15:40.233541Z",
     "start_time": "2025-09-28T16:15:40.222317Z"
    }
   },
   "cell_type": "code",
   "outputs": [
    {
     "name": "stdout",
     "output_type": "stream",
     "text": [
      "{'dog': 2, 'triceratops': 1, 'persian cat': 3, 'large white fluffy thing': 1}\n"
     ]
    }
   ],
   "execution_count": 34,
   "source": [
    "camino = '../../tests/test-1.txt'\n",
    "def psychexperiment(camino):\n",
    "    with open(camino) as f:\n",
    "        li = f.read()\n",
    "        # print(type(li))\n",
    "        li = li.strip()\n",
    "        li = li.split('\\n')\n",
    "        # print(li)\n",
    "        # print(type(li))\n",
    "\n",
    "    repeat = {}\n",
    "\n",
    "    if li == [''] or li == []:\n",
    "        return {}\n",
    "\n",
    "    for i in range(len(li)):\n",
    "        if li[i] in repeat:\n",
    "            repeat[li[i]] += 1\n",
    "        else:\n",
    "            repeat[li[i]] = 1\n",
    "\n",
    "    print(repeat)\n",
    "psychexperiment(camino)"
   ],
   "id": "initial_id"
  },
  {
   "metadata": {},
   "cell_type": "code",
   "outputs": [],
   "execution_count": null,
   "source": "",
   "id": "9e56ebaebd1e94b4"
  }
 ],
 "metadata": {
  "kernelspec": {
   "display_name": "Python 3",
   "language": "python",
   "name": "python3"
  },
  "language_info": {
   "codemirror_mode": {
    "name": "ipython",
    "version": 2
   },
   "file_extension": ".py",
   "mimetype": "text/x-python",
   "name": "python",
   "nbconvert_exporter": "python",
   "pygments_lexer": "ipython2",
   "version": "2.7.6"
  }
 },
 "nbformat": 4,
 "nbformat_minor": 5
}
