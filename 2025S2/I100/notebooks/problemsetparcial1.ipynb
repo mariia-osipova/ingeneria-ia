{
 "cells": [
  {
   "metadata": {},
   "cell_type": "markdown",
   "source": "Escriba un programa que imprima en pantalla los puntajes de dos jugadores de un game de partido de tenis. Por cada punto su programa debe recibir quien gana el game y en base a eso imprimir los puntajes. Cuando un jugador tenga ventaja debe imprimir Adv 40 o viceversa. Para ver quien gana su programa recibirá un 1 o un 2. Se debe imprimir en pantalla el primer puntaje de 0 a 0. Cuando gana un jugador se debe imprimir \"Gana el jugador x\", donde x es 1 o 2.",
   "id": "b7e0be12db3cb474"
  },
  {
   "metadata": {},
   "cell_type": "code",
   "source": [
    "def whoisthewinner():\n",
    "    score = [0, 0]\n",
    "\n",
    "    while True:\n",
    "        s = input().strip()\n",
    "        if s == \"\":\n",
    "            break\n",
    "        if s not in (\"1\", \"2\"):\n",
    "            while s not in (\"1\", \"2\"):\n",
    "                try:\n",
    "                    s = input().strip()\n",
    "                except EOFError:\n",
    "                    break\n",
    "                if s == \"\":\n",
    "                    break\n",
    "\n",
    "        i = 0 if s == \"1\" else 1\n",
    "        j = 1 - i\n",
    "\n",
    "        if score[i] in (0, 15):\n",
    "            print(*score)\n",
    "            score[i] += 15\n",
    "        elif score[i] == 30:\n",
    "            print(*score)\n",
    "            score[i] = 40\n",
    "        elif score[i] == 40 and score[j] in (0, 15, 30):\n",
    "            print(*score)\n",
    "            print(f\"Gana el jugador {i+1}\")\n",
    "            return\n",
    "        elif score[i] == 40 and score[j] == 40:\n",
    "            print(*score)\n",
    "            score[i] = \"Adv\"\n",
    "        elif score[i] == \"Adv\" and score[j] == 40:\n",
    "            print(*score)\n",
    "            print(f\"Gana el jugador {i+1}\")\n",
    "            return\n",
    "        elif score[i] == 40 and score[j] == \"Adv\":\n",
    "            print(*score)\n",
    "            score[j] = 40\n",
    "whoisthewinner()"
   ],
   "id": "b02d5ce2fbc69506",
   "outputs": [],
   "execution_count": null
  },
  {
   "metadata": {},
   "cell_type": "markdown",
   "source": [
    "Un estudiante de psicología está llevando a cabo un experimento en el que repetidamente le pide a la gente que \"piense un objeto, cualquiera'. Su objetivo es analizar en qué objetos piensa la gente en esta situación. Cada respuesta es almacenada en un archivo de texto, una respuesta por línea.\n",
    "\n",
    "Ayude a analizar los datos escribiendo una función llamada make_dictionary que tome como parámetro de entrada un string que represente el nombre del archivo con las respuestas obtenidas. La función debe devolver un diccionario en donde las claves sean las palabras pensadas por la gente y los valores asociados, la cantidad de veces que se repitió dicho objeto en la prueba."
   ],
   "id": "811c86d3c20015a4"
  },
  {
   "metadata": {
    "collapsed": true
   },
   "cell_type": "code",
   "source": [
    "camino = '../../tests/test-1.txt'\n",
    "def psychexperiment(camino):\n",
    "    with open(camino) as f:\n",
    "        li = f.read()\n",
    "        # print(type(li))\n",
    "        li = li.strip()\n",
    "        li = li.split('\\n')\n",
    "        # print(li)\n",
    "        # print(type(li))\n",
    "\n",
    "    repeat = {}\n",
    "\n",
    "    if li == [''] or li == []:\n",
    "        return {}\n",
    "\n",
    "    for i in range(len(li)):\n",
    "        if li[i] in repeat:\n",
    "            repeat[li[i]] += 1\n",
    "        else:\n",
    "            repeat[li[i]] = 1\n",
    "\n",
    "    print(repeat)\n",
    "psychexperiment(camino)"
   ],
   "id": "initial_id",
   "outputs": [],
   "execution_count": null
  },
  {
   "metadata": {},
   "cell_type": "code",
   "source": "",
   "id": "9e56ebaebd1e94b4",
   "outputs": [],
   "execution_count": null
  }
 ],
 "metadata": {
  "kernelspec": {
   "display_name": "Python 3",
   "language": "python",
   "name": "python3"
  },
  "language_info": {
   "codemirror_mode": {
    "name": "ipython",
    "version": 2
   },
   "file_extension": ".py",
   "mimetype": "text/x-python",
   "name": "python",
   "nbconvert_exporter": "python",
   "pygments_lexer": "ipython2",
   "version": "2.7.6"
  }
 },
 "nbformat": 4,
 "nbformat_minor": 5
}
