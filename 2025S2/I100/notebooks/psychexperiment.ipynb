{
 "cells": [
  {
   "cell_type": "code",
   "id": "initial_id",
   "metadata": {
    "collapsed": true,
    "ExecuteTime": {
     "end_time": "2025-09-28T16:15:40.233541Z",
     "start_time": "2025-09-28T16:15:40.222317Z"
    }
   },
   "source": [
    "camino = '../../tests/test-1.txt'\n",
    "def psychexperiment(camino):\n",
    "    with open(camino) as f:\n",
    "        li = f.read()\n",
    "        # print(type(li))\n",
    "        li = li.strip()\n",
    "        li = li.split('\\n')\n",
    "        # print(li)\n",
    "        # print(type(li))\n",
    "\n",
    "    repeat = {}\n",
    "\n",
    "    if li == [''] or li == []:\n",
    "        return {}\n",
    "\n",
    "    for i in range(len(li)):\n",
    "        if li[i] in repeat:\n",
    "            repeat[li[i]] += 1\n",
    "        else:\n",
    "            repeat[li[i]] = 1\n",
    "\n",
    "    print(repeat)\n",
    "psychexperiment(camino)"
   ],
   "outputs": [
    {
     "name": "stdout",
     "output_type": "stream",
     "text": [
      "{'dog': 2, 'triceratops': 1, 'persian cat': 3, 'large white fluffy thing': 1}\n"
     ]
    }
   ],
   "execution_count": 34
  },
  {
   "metadata": {},
   "cell_type": "code",
   "outputs": [],
   "execution_count": null,
   "source": "",
   "id": "9e56ebaebd1e94b4"
  }
 ],
 "metadata": {
  "kernelspec": {
   "display_name": "Python 3",
   "language": "python",
   "name": "python3"
  },
  "language_info": {
   "codemirror_mode": {
    "name": "ipython",
    "version": 2
   },
   "file_extension": ".py",
   "mimetype": "text/x-python",
   "name": "python",
   "nbconvert_exporter": "python",
   "pygments_lexer": "ipython2",
   "version": "2.7.6"
  }
 },
 "nbformat": 4,
 "nbformat_minor": 5
}
