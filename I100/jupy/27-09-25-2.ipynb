{
 "cells": [
  {
   "cell_type": "code",
   "execution_count": null,
   "id": "1ea6e2a9",
   "metadata": {
    "lines_to_next_cell": 1
   },
   "outputs": [],
   "source": [
    "def whoisthewinner():\n",
    "    score = [0, 0]\n",
    "\n",
    "    while True:\n",
    "        s = input().strip()\n",
    "        if s == \"\":\n",
    "            break\n",
    "        if s not in (\"1\", \"2\"):\n",
    "            while s not in (\"1\", \"2\"):\n",
    "                try:\n",
    "                    s = input().strip()\n",
    "                except EOFError:\n",
    "                    break\n",
    "                if s == \"\":\n",
    "                    break\n",
    "\n",
    "        i = 0 if s == \"1\" else 1\n",
    "        j = 1 - i\n",
    "\n",
    "        if score[i] in (0, 15):\n",
    "            print(*score)\n",
    "            score[i] += 15\n",
    "        elif score[i] == 30:\n",
    "            print(*score)\n",
    "            score[i] = 40\n",
    "        elif score[i] == 40 and score[j] in (0, 15, 30):\n",
    "            print(*score)\n",
    "            print(f\"Gana el jugador {i+1}\")\n",
    "            return\n",
    "        elif score[i] == 40 and score[j] == 40:\n",
    "            print(*score)\n",
    "            score[i] = \"Adv\"\n",
    "        elif score[i] == \"Adv\" and score[j] == 40:\n",
    "            print(*score)\n",
    "            print(f\"Gana el jugador {i+1}\")\n",
    "            return\n",
    "        elif score[i] == 40 and score[j] == \"Adv\":\n",
    "            print(*score)\n",
    "            score[j] = 40"
   ]
  },
  {
   "cell_type": "code",
   "execution_count": null,
   "id": "e1b5f00f",
   "metadata": {},
   "outputs": [],
   "source": [
    "whoisthewinner()"
   ]
  }
 ],
 "metadata": {
  "jupytext": {
   "cell_metadata_filter": "-all",
   "main_language": "python",
   "notebook_metadata_filter": "-all"
  }
 },
 "nbformat": 4,
 "nbformat_minor": 5
}
