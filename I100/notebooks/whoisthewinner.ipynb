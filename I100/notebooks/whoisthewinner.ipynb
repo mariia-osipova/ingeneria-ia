{
 "cells": [
  {
   "cell_type": "code",
   "id": "initial_id",
   "metadata": {
    "collapsed": true,
    "ExecuteTime": {
     "end_time": "2025-09-28T14:30:04.348171Z",
     "start_time": "2025-09-28T14:30:00.364432Z"
    }
   },
   "source": [
    "def whoisthewinner():\n",
    "    score = [0, 0]\n",
    "\n",
    "    while True:\n",
    "        s = input().strip()\n",
    "        if s == \"\":\n",
    "            break\n",
    "        if s not in (\"1\", \"2\"):\n",
    "            while s not in (\"1\", \"2\"):\n",
    "                try:\n",
    "                    s = input().strip()\n",
    "                except EOFError:\n",
    "                    break\n",
    "                if s == \"\":\n",
    "                    break\n",
    "\n",
    "        i = 0 if s == \"1\" else 1\n",
    "        j = 1 - i\n",
    "\n",
    "        if score[i] in (0, 15):\n",
    "            print(*score)\n",
    "            score[i] += 15\n",
    "        elif score[i] == 30:\n",
    "            print(*score)\n",
    "            score[i] = 40\n",
    "        elif score[i] == 40 and score[j] in (0, 15, 30):\n",
    "            print(*score)\n",
    "            print(f\"Gana el jugador {i+1}\")\n",
    "            return\n",
    "        elif score[i] == 40 and score[j] == 40:\n",
    "            print(*score)\n",
    "            score[i] = \"Adv\"\n",
    "        elif score[i] == \"Adv\" and score[j] == 40:\n",
    "            print(*score)\n",
    "            print(f\"Gana el jugador {i+1}\")\n",
    "            return\n",
    "        elif score[i] == 40 and score[j] == \"Adv\":\n",
    "            print(*score)\n",
    "            score[j] = 40"
   ],
   "outputs": [
    {
     "name": "stdout",
     "output_type": "stream",
     "text": [
      "0 0\n"
     ]
    }
   ],
   "execution_count": 7
  },
  {
   "metadata": {
    "ExecuteTime": {
     "end_time": "2025-09-28T14:32:19.160809Z",
     "start_time": "2025-09-28T14:32:05.701648Z"
    }
   },
   "cell_type": "code",
   "source": "whoisthewinner()",
   "id": "aad71b09d5d35d6b",
   "outputs": [
    {
     "name": "stdout",
     "output_type": "stream",
     "text": [
      "0 0\n",
      "15 0\n",
      "15 15\n",
      "30 15\n",
      "40 15\n",
      "Gana el jugador 1\n"
     ]
    }
   ],
   "execution_count": 8
  },
  {
   "metadata": {},
   "cell_type": "code",
   "outputs": [],
   "execution_count": null,
   "source": "",
   "id": "824fe3fc7fdc70a5"
  }
 ],
 "metadata": {
  "kernelspec": {
   "display_name": "Python 3",
   "language": "python",
   "name": "python3"
  },
  "language_info": {
   "codemirror_mode": {
    "name": "ipython",
    "version": 2
   },
   "file_extension": ".py",
   "mimetype": "text/x-python",
   "name": "python",
   "nbconvert_exporter": "python",
   "pygments_lexer": "ipython2",
   "version": "2.7.6"
  }
 },
 "nbformat": 4,
 "nbformat_minor": 5
}
